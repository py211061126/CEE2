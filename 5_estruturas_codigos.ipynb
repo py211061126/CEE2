{
  "nbformat": 4,
  "nbformat_minor": 0,
  "metadata": {
    "colab": {
      "provenance": [],
      "toc_visible": true,
      "include_colab_link": true
    },
    "kernelspec": {
      "name": "python3",
      "display_name": "Python 3"
    },
    "language_info": {
      "name": "python"
    }
  },
  "cells": [
    {
      "cell_type": "markdown",
      "metadata": {
        "id": "view-in-github",
        "colab_type": "text"
      },
      "source": [
        "<a href=\"https://colab.research.google.com/github/py211061126/CEE2/blob/main/5_estruturas_codigos.ipynb\" target=\"_parent\"><img src=\"https://colab.research.google.com/assets/colab-badge.svg\" alt=\"Open In Colab\"/></a>"
      ]
    },
    {
      "cell_type": "markdown",
      "source": [
        "# Estruturas de códigos\n",
        "\n",
        "As estruturas de código são os blocos que organizam e controlam o fluxo de um programa. Nesta introdução, vamos falar sobre Execução Condicional e Laços de Repetição."
      ],
      "metadata": {
        "id": "9otVkbcbg69h"
      }
    },
    {
      "cell_type": "markdown",
      "source": [
        "## Execução condicional"
      ],
      "metadata": {
        "id": "IogvXsuHhMSl"
      }
    },
    {
      "cell_type": "markdown",
      "source": [
        "Blocos de código podem ser executados **condicionalmente** de modo que decisões sejam tomadas com base em determinadas condições.\n",
        "\n",
        "Em Python, as instruções condicionais são escritas usando as palavras-chave `if`, `else` e `elif` (else if). Com isso, podemos executar diferentes blocos de código dependendo de uma condição lógica, que pode ser verdadeira ou falsa.\n",
        "\n",
        "Estrutura Básica de Condicionais:\n",
        "* `if`: Executa o bloco de código se a condição for verdadeira.\n",
        "* `else`: Executa um bloco de código quando todas as condições anteriores são falsas.\n",
        "* `elif`: Executa um bloco de código alternativo se a primeira condição for falsa e a nova condição for verdadeira.\n"
      ],
      "metadata": {
        "id": "x8duFTsgApaN"
      }
    },
    {
      "cell_type": "markdown",
      "source": [
        "**Operadores**\n",
        "\n",
        "* Operadores de comparação:\n",
        "  * `==`: Igualdade\n",
        "  * `!=`: Diferença\n",
        "  * `>`: Maior que\n",
        "  * `<`: Menor que\n",
        "  * `>=`: Maior ou igual a\n",
        "  * `<=`: Menor ou igual a\n",
        "\n",
        "* Operadores lógicos:\n",
        "  * `and`: Verdadeiro se ambas as condições forem verdadeiras.\n",
        "  * `or`: Verdadeiro se uma das condições for verdadeira.\n",
        "  * `not`: Inverte o valor lógico (verdadeiro se a condição for falsa, e vice-versa)."
      ],
      "metadata": {
        "id": "qg5AGu1r1zTt"
      }
    },
    {
      "cell_type": "markdown",
      "source": [
        "**Identação**\n",
        "\n",
        "Em Python, o nível de indentação (espaçamento) é o que define quais linhas estão dentro de um bloco. Ele não usa chaves `{}` como outras linguagens (tipo R, JavaScript ou C).\n",
        "\n",
        "Regras básicas de indentação no Python:\n",
        "\n",
        "- Use sempre o mesmo número de espaços (normalmente 4).\n",
        "\n",
        "- Não misture espaços e tabulações.\n",
        "\n",
        "- Um bloco de código começa depois de dois pontos : e deve ser indentado na linha seguinte."
      ],
      "metadata": {
        "id": "TbD41hBqtF7I"
      }
    },
    {
      "cell_type": "markdown",
      "source": [
        "**Exemplo**: No exemplo abaixo, se a variável idade for maior ou igual a 18, a mensagem \"Você é maior de idade\" será exibida; caso contrário, a mensagem será \"Você é menor de idade\"."
      ],
      "metadata": {
        "id": "VaNytVKFY_jZ"
      }
    },
    {
      "cell_type": "code",
      "source": [
        "idade = 17\n",
        "\n",
        "if idade >= 18:\n",
        "    print(\"Você é maior de idade.\")\n",
        "else:\n",
        "    print(\"Você é menor de idade.\")"
      ],
      "metadata": {
        "id": "asZ2Oh7IAwFw"
      },
      "execution_count": null,
      "outputs": []
    },
    {
      "cell_type": "markdown",
      "source": [
        "**Exemplo**: Crie um programa que peça ao usuário um ano e verifique se ele é bissexto. Um ano é bissexto se for divisível por 4, mas não por 100, exceto se for divisível por 400."
      ],
      "metadata": {
        "id": "-2xB2iKe3TbK"
      }
    },
    {
      "cell_type": "code",
      "source": [
        "ano = int(input(\"Digite um ano: \"))\n",
        "\n",
        "if (ano % 4 == 0 and ano % 100 != 0) or (ano % 400 == 0):\n",
        "    print(f\"{ano} é um ano bissexto.\")\n",
        "else:\n",
        "    print(f\"{ano} não é um ano bissexto.\")"
      ],
      "metadata": {
        "id": "Pkj2fijB3aTC"
      },
      "execution_count": null,
      "outputs": []
    },
    {
      "cell_type": "markdown",
      "source": [
        "**Blocos Aninhados**: blocos condicionais podem ser aninhados, veja o exemplo:"
      ],
      "metadata": {
        "id": "WrV7FKU8BHsN"
      }
    },
    {
      "cell_type": "code",
      "source": [
        "nota = 7.5\n",
        "\n",
        "if nota >= 0 and nota <= 10:\n",
        "    if nota >= 9:\n",
        "        print(\"Excelente\")\n",
        "    else:\n",
        "        if nota >= 7:\n",
        "            print(\"Bom\")\n",
        "        else:\n",
        "            if nota >= 5:\n",
        "                print(\"Regular\")\n",
        "            else:\n",
        "                print(\"Reprovado\")\n",
        "else:\n",
        "    print(\"Nota inválida\")"
      ],
      "metadata": {
        "id": "oPiYY6n0BK8E"
      },
      "execution_count": null,
      "outputs": []
    },
    {
      "cell_type": "markdown",
      "source": [
        "Como alternativa a essa estrutura, a linguagem define a comando chave `elif` para combinar um `else` e um `if`. Veja o mesmo exemplo agora utilizando `elif`:"
      ],
      "metadata": {
        "id": "KpGjBZaABlsd"
      }
    },
    {
      "cell_type": "code",
      "source": [
        "nota = 7.5\n",
        "\n",
        "if nota < 0 or nota > 10:\n",
        "    print(\"Nota inválida\")\n",
        "elif nota >= 9:\n",
        "    print(\"Excelente\")\n",
        "elif nota >= 7:\n",
        "    print(\"Bom\")\n",
        "elif nota >= 5:\n",
        "    print(\"Regular\")\n",
        "else:\n",
        "    print(\"Reprovado\")"
      ],
      "metadata": {
        "id": "Y4pFLMi3BwLP"
      },
      "execution_count": null,
      "outputs": []
    },
    {
      "cell_type": "markdown",
      "source": [
        "**Exemplo**: Baseado na idade de um atleta, escreva um programa que classifique-o em uma das seguintes categorias:\n",
        "\n",
        "* Até 12 anos: Infantil\n",
        "* 13 a 17 anos: Juvenil\n",
        "* 18 a 35 anos: Adulto\n",
        "* Acima de 35 anos: Master"
      ],
      "metadata": {
        "id": "8_54WaYu4c2F"
      }
    },
    {
      "cell_type": "code",
      "source": [
        "idade = int(input(\"Digite a idade do atleta: \"))\n",
        "\n",
        "if idade < 0:\n",
        "    print(\"Idade inválida\")\n",
        "elif idade <= 12:\n",
        "    print(\"Categoria: Infantil\")\n",
        "elif idade <= 17:\n",
        "    print(\"Categoria: Juvenil\")\n",
        "elif idade <= 35:\n",
        "    print(\"Categoria: Adulto\")\n",
        "else:\n",
        "    print(\"Categoria: Master\")"
      ],
      "metadata": {
        "id": "NY91pL0n4nrc"
      },
      "execution_count": null,
      "outputs": []
    },
    {
      "cell_type": "markdown",
      "source": [
        "### Exercício 1: Crie um programa que pergunte o preço de um produto e verifique se ele deve aplicar algum desconto:\n",
        "\n",
        "* Se o preço for maior que R$ 1000, aplique um desconto de 10%.\n",
        "* Caso contrário, aplique um desconto de 5%.\n",
        "\n",
        "Exiba o valor final do produto após o desconto."
      ],
      "metadata": {
        "id": "8FcfVHBb5otc"
      }
    },
    {
      "cell_type": "code",
      "source": [
        "preco = int(input(\"Digite o preço do produto: \"))\n",
        "if preco > 1000:\n",
        "  print(\"O produto com desconto fica \", preco * 0.9)\n",
        "else:\n",
        "  print(\"O produto com desconto fica \", preco * 0.95)"
      ],
      "metadata": {
        "colab": {
          "base_uri": "https://localhost:8080/"
        },
        "id": "FLUiyGyuwMHg",
        "outputId": "c857e73a-2df7-4f57-f5f5-6e5bbacf8f7d"
      },
      "execution_count": null,
      "outputs": [
        {
          "output_type": "stream",
          "name": "stdout",
          "text": [
            "Digite o preço do produto: 1100\n",
            "O produto com desconto fica  990.0\n"
          ]
        }
      ]
    },
    {
      "cell_type": "markdown",
      "source": [
        "### Exercício 2: Escreva um programa que atribua menção para um aluno da UNB de acordo com o padrão da universidade. Inicialize perguntando a Nota Final e a Frequência do aluno. Classifique de acordo com os critérios:\n",
        "- Frequência $ < $ 70\\% : SR\n",
        "- Frequência $\\geq$ 70\\% e $0 \\leq NF < 3$: II\n",
        "- Frequência $\\geq$ 70\\% e $3 \\leq NF < 5$: MI\n",
        "- Frequência $\\geq$ 70\\% e $5 \\leq NF < 7$: MM\n",
        "- Frequência $\\geq$ 70\\% e $7 \\leq NF < 9$: MS\n",
        "- Frequência $\\geq$ 70\\% e $9 \\leq NF \\leq 10$: SS"
      ],
      "metadata": {
        "id": "Kw4rHdLs3t__"
      }
    },
    {
      "cell_type": "code",
      "source": [
        "nota = (int(input(\"Digite sua nota final: \")))\n",
        "freq = (int(input(\"Digite sua frequência: \")))\n",
        "\n",
        "if nota < 0:\n",
        "  print(\"Nota inválida.\")\n",
        "elif nota >10:\n",
        "  print(\"Nota inválida.\")\n",
        "elif freq < 70:\n",
        "  print(\"SR\")\n",
        "elif nota < 3:\n",
        "  print(\"II\")\n",
        "elif nota < 5:\n",
        "  print(\"MI\")\n",
        "elif nota < 7:\n",
        "  print(\"MM\")\n",
        "elif nota < 9:\n",
        "  print(\"MS\")\n",
        "elif nota < 10:\n",
        "  print(\"SS\")"
      ],
      "metadata": {
        "colab": {
          "base_uri": "https://localhost:8080/"
        },
        "id": "azN__UDQxYU2",
        "outputId": "f56b770b-3464-45f1-8d6c-4f511c5e1346"
      },
      "execution_count": null,
      "outputs": [
        {
          "output_type": "stream",
          "name": "stdout",
          "text": [
            "Digite sua nota final: -1\n",
            "Digite sua frequência: 80\n",
            "Nota inválida.\n"
          ]
        }
      ]
    },
    {
      "cell_type": "markdown",
      "source": [
        "## Laços de repetição"
      ],
      "metadata": {
        "id": "10YbWVx_hkDf"
      }
    },
    {
      "cell_type": "markdown",
      "source": [
        "**Laços de repetição** permitem executar um bloco de código várias vezes. Eles são fundamentais em programação quando precisamos repetir tarefas de forma automática. Em Python, os principais laços de repetição são `for` e `while`.\n",
        "\n",
        "O **Controle de Fluxo** pode ser feito com `break` e `continue`, em que:\n",
        "* `break`: encerra o loop imediatamente.\n",
        "* `continue`: pula para a próxima iteração.\n",
        "* `pass`: não faz nada, apenas ocupa espaço (placeholder). Geralmente é utilizado durante a construção de um código, no qual quer deixar um bloco em aberto para que venha a ser preenchido no futuro."
      ],
      "metadata": {
        "id": "2s1hcYzfB4Wk"
      }
    },
    {
      "cell_type": "markdown",
      "source": [
        "### `while`\n",
        "\n",
        "O laço `while` executa o bloco de código enquanto uma condição for verdadeira. Ele verifica a condição antes de cada execução do bloco.\n",
        "\n",
        "**Sintaxe:**\n",
        "\n",
        "```python\n",
        "while condição:\n",
        "    # Código a ser executado enquanto a condição for verdadeira\n",
        "```"
      ],
      "metadata": {
        "id": "-cnGWPoJ-xO0"
      }
    },
    {
      "cell_type": "markdown",
      "source": [
        "**Exemplo**"
      ],
      "metadata": {
        "id": "8lUS53Ff_YWD"
      }
    },
    {
      "cell_type": "code",
      "source": [
        "i = 1     # contador\n",
        "while i < 6:\n",
        "  print(i)\n",
        "  i += 1\n",
        "\n",
        "print(\"Executado ao sair do laço!\")"
      ],
      "metadata": {
        "id": "Sn03QCKQ_a9J",
        "colab": {
          "base_uri": "https://localhost:8080/"
        },
        "outputId": "91d4a55b-22cc-42b6-e08c-2e1665bd389b"
      },
      "execution_count": null,
      "outputs": [
        {
          "output_type": "stream",
          "name": "stdout",
          "text": [
            "1\n",
            "2\n",
            "3\n",
            "4\n",
            "5\n",
            "Executado ao sair do laço!\n"
          ]
        }
      ]
    },
    {
      "cell_type": "code",
      "source": [
        "# Exibe os valores 1, 2, 3\n",
        "i = 1\n",
        "while i < 6:\n",
        "  print(i)\n",
        "  if i == 3:\n",
        "    break    # Quando i = 3 o laço é quebrado.\n",
        "  i += 1"
      ],
      "metadata": {
        "id": "PuGkzANPyZqU",
        "colab": {
          "base_uri": "https://localhost:8080/"
        },
        "outputId": "f5f291a7-7a42-4715-f598-55181055e62c"
      },
      "execution_count": null,
      "outputs": [
        {
          "output_type": "stream",
          "name": "stdout",
          "text": [
            "1\n",
            "2\n",
            "3\n"
          ]
        }
      ]
    },
    {
      "cell_type": "code",
      "source": [
        "# Exibe os valores 2, 4, 5, 6\n",
        "i = 1\n",
        "while i < 6:\n",
        "  i += 1\n",
        "  if i == 3:\n",
        "    continue    # Quando i = 3 pula para a proxima iteração.\n",
        "  print(i)"
      ],
      "metadata": {
        "id": "zvWwr8x_ypuC",
        "colab": {
          "base_uri": "https://localhost:8080/"
        },
        "outputId": "1beab327-4ab8-4bf9-dbb0-314d6aca49b3"
      },
      "execution_count": null,
      "outputs": [
        {
          "output_type": "stream",
          "name": "stdout",
          "text": [
            "2\n",
            "4\n",
            "5\n",
            "6\n"
          ]
        }
      ]
    },
    {
      "cell_type": "code",
      "source": [
        "# Exibe os valores 2, 3, 4, 5, 6\n",
        "i = 1\n",
        "while i < 6:\n",
        "  i += 1\n",
        "  if i == 3:\n",
        "    pass    # Quando i = 3, não faz nada de diferente.\n",
        "  print(i)"
      ],
      "metadata": {
        "id": "EpKeiboEzgx9"
      },
      "execution_count": null,
      "outputs": []
    },
    {
      "cell_type": "markdown",
      "source": [
        "**Exemplo**: Escreva um programa onde o computador escolhe um número aleatório de 1 a 10 (use `random.randint(1, 10)`) e o usuário tenta adivinhar. O programa continua pedindo palpites até que o usuário acerte."
      ],
      "metadata": {
        "id": "VEXcxtsYExss"
      }
    },
    {
      "cell_type": "code",
      "source": [
        "####### geração do número aleatório\n",
        "import random\n",
        "numero_secreto = random.randint(1, 10) ## gera o número aleatório\n",
        "\n",
        "###### parte principal do programa\n",
        "palpite = 0\n",
        "while palpite != numero_secreto:\n",
        "    palpite = int(input(\"Adivinhe o número entre 1 e 10: \"))\n",
        "\n",
        "    if palpite < numero_secreto:\n",
        "        print(\"Muito baixo!\")\n",
        "    elif palpite > numero_secreto:\n",
        "        print(\"Muito alto!\")\n",
        "\n",
        "print(\"Parabéns! Você acertou!\")"
      ],
      "metadata": {
        "id": "0qDzyXHNE4gD",
        "colab": {
          "base_uri": "https://localhost:8080/"
        },
        "outputId": "feea64f1-b315-45f8-ebac-d212b702db82"
      },
      "execution_count": null,
      "outputs": [
        {
          "output_type": "stream",
          "name": "stdout",
          "text": [
            "Adivinhe o número entre 1 e 10: 5\n",
            "Parabéns! Você acertou!\n"
          ]
        }
      ]
    },
    {
      "cell_type": "markdown",
      "source": [
        "#### while Infinito\n",
        "\n",
        "Um loop while infinito é um loop que nunca termina por conta própria, a menos que você use algo como break ou feche o programa. Ele é útil em várias situações como jogos, menus interativos, servidores etc\n",
        "\n",
        "> O código abaixo vai imprimir a mensagem sem parar, até você forçar a parada (Ctrl+C no terminal, por exemplo).\n",
        "\n",
        "  ```python\n",
        "  while True:\n",
        "      print(\"Isso vai rodar para sempre!\")\n",
        "  ```\n",
        "\n",
        "**Exemplo**: o código abaixo também utiliza a estrutura de while infinito, mas possui uma condição de parada.  "
      ],
      "metadata": {
        "id": "N588w2fd0iZY"
      }
    },
    {
      "cell_type": "code",
      "source": [
        "## exibe: 1, 2, 3, 4\n",
        "i = 1\n",
        "while True:\n",
        "  if i < 5:\n",
        "    print(i)\n",
        "  else:\n",
        "    break\n",
        "  i += 1"
      ],
      "metadata": {
        "id": "8yA9mQIH0C4t",
        "colab": {
          "base_uri": "https://localhost:8080/"
        },
        "outputId": "d713b0b6-7a59-4b9e-8a1a-28024c3dbc43"
      },
      "execution_count": null,
      "outputs": [
        {
          "output_type": "stream",
          "name": "stdout",
          "text": [
            "1\n",
            "2\n",
            "3\n",
            "4\n"
          ]
        }
      ]
    },
    {
      "cell_type": "markdown",
      "source": [
        "**Exemplo**: Menu Interativo com Condição de Saída\n",
        "\n",
        "> Esse while é infinito, mas pode ser interrompido com break quando o usuário digita \"sair\"."
      ],
      "metadata": {
        "id": "jG_xbySF1uys"
      }
    },
    {
      "cell_type": "code",
      "source": [
        "awhile True:\n",
        "    opcao = input(\"Digite 'sair' para encerrar: \")\n",
        "    if opcao == \"sair\":\n",
        "        print(\"Encerrando...\")\n",
        "        break\n",
        "    else:\n",
        "        print(\"Você digitou:\", opcao)"
      ],
      "metadata": {
        "id": "8nvgKtvB12tx",
        "colab": {
          "base_uri": "https://localhost:8080/"
        },
        "outputId": "9fdd36ab-3fd8-4f5e-d5aa-15d7366cc462"
      },
      "execution_count": null,
      "outputs": [
        {
          "output_type": "stream",
          "name": "stdout",
          "text": [
            "Digite 'sair' para encerrar: nao]\n",
            "Você digitou: nao]\n",
            "Digite 'sair' para encerrar: zz\n",
            "Você digitou: zz\n",
            "Digite 'sair' para encerrar: zm\n",
            "Você digitou: zm\n",
            "Digite 'sair' para encerrar: aaaaaaaaaaaaaaaaaaaaa\n",
            "Você digitou: aaaaaaaaaaaaaaaaaaaaa\n",
            "Digite 'sair' para encerrar: sair\n",
            "Encerrando...\n"
          ]
        }
      ]
    },
    {
      "cell_type": "markdown",
      "source": [
        "**Exemplo tipo jogo**: Tentativa de Adivinhação"
      ],
      "metadata": {
        "id": "sxFRSD5B2i8i"
      }
    },
    {
      "cell_type": "code",
      "source": [
        "senha_correta = \"python\"\n",
        "\n",
        "while True:\n",
        "    tentativa = input(\"Digite a senha: \")\n",
        "    if tentativa == senha_correta:\n",
        "        print(\"Acesso liberado!\")\n",
        "        break\n",
        "    else:\n",
        "        print(\"Senha incorreta. Tente novamente.\")"
      ],
      "metadata": {
        "id": "BiRZrr982i8i",
        "colab": {
          "base_uri": "https://localhost:8080/"
        },
        "outputId": "d87f59f3-02a3-4eee-d1f5-dd52d2d1ce32"
      },
      "execution_count": null,
      "outputs": [
        {
          "output_type": "stream",
          "name": "stdout",
          "text": [
            "Digite a senha: sena\n",
            "Senha incorreta. Tente novamente.\n",
            "Digite a senha: senha\n",
            "Senha incorreta. Tente novamente.\n",
            "Digite a senha: 213o21ap\n",
            "Senha incorreta. Tente novamente.\n",
            "Digite a senha: py211061126\n",
            "Senha incorreta. Tente novamente.\n",
            "Digite a senha: python\n",
            "Acesso liberado!\n"
          ]
        }
      ]
    },
    {
      "cell_type": "markdown",
      "source": [
        "### `for`\n",
        "\n",
        "O laço `for` é usado para iterar sobre uma sequência (como listas, tuplas, strings, ou intervalos com range). Em cada iteração, o valor da sequência é atribuído a uma variável, e o bloco de código dentro do laço é executado.\n",
        "\n",
        "**Sintaxe do** `for`:\n",
        "\n",
        "```python\n",
        "for variável in sequência:\n",
        "    # Código a ser executado a cada iteração\n",
        "```"
      ],
      "metadata": {
        "id": "n38x_rjKDY3G"
      }
    },
    {
      "cell_type": "markdown",
      "source": [
        "**Exemplo**"
      ],
      "metadata": {
        "id": "NIwWatHJBQRN"
      }
    },
    {
      "cell_type": "code",
      "source": [
        "for numero in range(1, 6):\n",
        "    print(numero)"
      ],
      "metadata": {
        "id": "gkr29tBCBSID",
        "colab": {
          "base_uri": "https://localhost:8080/"
        },
        "outputId": "88106f8b-b755-4a26-ac5c-4352d8c06474"
      },
      "execution_count": null,
      "outputs": [
        {
          "output_type": "stream",
          "name": "stdout",
          "text": [
            "1\n",
            "2\n",
            "3\n",
            "4\n",
            "5\n"
          ]
        }
      ]
    },
    {
      "cell_type": "markdown",
      "source": [
        "**Exemplos**"
      ],
      "metadata": {
        "id": "3USrX1mNBVf3"
      }
    },
    {
      "cell_type": "code",
      "source": [
        "## iterando sobre uma lista\n",
        "\n",
        "frutas = ['banana', 'maçã', 'morango']\n",
        "\n",
        "for fruta in frutas:\n",
        "  print('Comprar ', fruta, '.', sep='')"
      ],
      "metadata": {
        "id": "K6EWhF0xDdEO",
        "colab": {
          "base_uri": "https://localhost:8080/"
        },
        "outputId": "b7e48c91-eb76-4f22-e540-2aebe674ebba"
      },
      "execution_count": null,
      "outputs": [
        {
          "output_type": "stream",
          "name": "stdout",
          "text": [
            "Comprar banana.\n",
            "Comprar maçã.\n",
            "Comprar morango.\n"
          ]
        }
      ]
    },
    {
      "cell_type": "code",
      "source": [
        "## iterando sobre uma string\n",
        "\n",
        "for letra in 'banana':\n",
        "  print(letra)"
      ],
      "metadata": {
        "id": "TrSghRtK3Z7_",
        "colab": {
          "base_uri": "https://localhost:8080/"
        },
        "outputId": "463ef718-ff62-40e8-a150-dcd1192f2eb6"
      },
      "execution_count": null,
      "outputs": [
        {
          "output_type": "stream",
          "name": "stdout",
          "text": [
            "b\n",
            "a\n",
            "n\n",
            "a\n",
            "n\n",
            "a\n"
          ]
        }
      ]
    },
    {
      "cell_type": "code",
      "source": [
        "## iterando sobre uma sequência com quebra\n",
        "\n",
        "for k in range(10):\n",
        "  print(k)\n",
        "  if k == 5:\n",
        "    break    # Quebra o laço."
      ],
      "metadata": {
        "id": "g6LyTKrD3dZZ",
        "colab": {
          "base_uri": "https://localhost:8080/"
        },
        "outputId": "b3a6a13f-785b-4f60-8a50-2f5b7937b005"
      },
      "execution_count": null,
      "outputs": [
        {
          "output_type": "stream",
          "name": "stdout",
          "text": [
            "0\n",
            "1\n",
            "2\n",
            "3\n",
            "4\n",
            "5\n"
          ]
        }
      ]
    },
    {
      "cell_type": "code",
      "source": [
        "## mostrando apenas os elementos de interesse\n",
        "\n",
        "for k in range(1, 15):\n",
        "  if k % 2  == 0: # se k é par então segue para o\n",
        "    continue      # próximo elemento do laço.\n",
        "  print(k)"
      ],
      "metadata": {
        "id": "SA5w7XXb3fX4",
        "colab": {
          "base_uri": "https://localhost:8080/"
        },
        "outputId": "17868e23-443e-41d5-c3cb-7d50ade8b6b7"
      },
      "execution_count": null,
      "outputs": [
        {
          "output_type": "stream",
          "name": "stdout",
          "text": [
            "1\n",
            "3\n",
            "5\n",
            "7\n",
            "9\n",
            "11\n",
            "13\n"
          ]
        }
      ]
    },
    {
      "cell_type": "code",
      "source": [
        "## gera o mesmo resultado da anterior\n",
        "\n",
        "for k in range(1, 15, 2):\n",
        "  print(k)"
      ],
      "metadata": {
        "id": "qJxBEtbc3hXC",
        "colab": {
          "base_uri": "https://localhost:8080/"
        },
        "outputId": "0704c646-16a4-4161-94c6-0b98eae0bd4a"
      },
      "execution_count": null,
      "outputs": [
        {
          "output_type": "stream",
          "name": "stdout",
          "text": [
            "1\n",
            "3\n",
            "5\n",
            "7\n",
            "9\n",
            "11\n",
            "13\n"
          ]
        }
      ]
    },
    {
      "cell_type": "markdown",
      "source": [
        "O laço **for** também pode ser usado para inicializar *vetores* e *matrizes*."
      ],
      "metadata": {
        "id": "JH_Gjc0YExyG"
      }
    },
    {
      "cell_type": "code",
      "source": [
        "v1 = [ 0 for i in range(10)]     # Cria um vetor de 10 posições iguais a 0.\n",
        "v2 = [ i**2 for i in range(10)]  # Cria um vetor de 10 posições com quadrados.\n",
        "\n",
        "print(v1)\n",
        "print(v2)\n",
        "\n",
        "# Cria matrizes 4 x 3. (listas de listas)\n",
        "m1 = [[0 for i in range(3)] for j in range(4)]\n",
        "m2 = [[i*j for j in range(3)] for i in range(4)]\n",
        "\n",
        "print(m1)\n",
        "print(m2)"
      ],
      "metadata": {
        "id": "S3D4LcUdE5XO",
        "colab": {
          "base_uri": "https://localhost:8080/"
        },
        "outputId": "a1d68fb1-320d-4a1a-9638-0b144920f886"
      },
      "execution_count": null,
      "outputs": [
        {
          "output_type": "stream",
          "name": "stdout",
          "text": [
            "[0, 0, 0, 0, 0, 0, 0, 0, 0, 0]\n",
            "[0, 1, 4, 9, 16, 25, 36, 49, 64, 81]\n",
            "[[0, 0, 0], [0, 0, 0], [0, 0, 0], [0, 0, 0]]\n",
            "[[0, 0, 0], [0, 1, 2], [0, 2, 4], [0, 3, 6]]\n"
          ]
        }
      ]
    },
    {
      "cell_type": "markdown",
      "source": [
        "O laço **for** pode ser usado para iterar sobre *listas*, *tuplas*, *conjuntos* e *chaves* de dicionários."
      ],
      "metadata": {
        "id": "1TMmPG6FFsit"
      }
    },
    {
      "cell_type": "code",
      "source": [
        "lista = list((\"A\",\"B\",\"C\",\"D\"))\n",
        "tupla = tuple((\"A\",\"B\",\"C\",\"D\"))\n",
        "\n",
        "for k in lista:\n",
        "  print(k)\n",
        "\n",
        "print('---')\n",
        "\n",
        "for k in tupla:\n",
        "  print(k)"
      ],
      "metadata": {
        "id": "4AhmeKXhFr_W",
        "colab": {
          "base_uri": "https://localhost:8080/"
        },
        "outputId": "e8405ac1-aa51-4327-b545-58d579c0e769"
      },
      "execution_count": null,
      "outputs": [
        {
          "output_type": "stream",
          "name": "stdout",
          "text": [
            "A\n",
            "B\n",
            "C\n",
            "D\n",
            "---\n",
            "A\n",
            "B\n",
            "C\n",
            "D\n"
          ]
        }
      ]
    },
    {
      "cell_type": "code",
      "source": [
        "## no caso de conjuntos a ordem pode não ser mantida\n",
        "conj  = set((\"A\",\"B\",\"C\",\"D\"))\n",
        "\n",
        "for k in conj:\n",
        "  print(k)\n"
      ],
      "metadata": {
        "id": "GzJoJbem5YC1",
        "colab": {
          "base_uri": "https://localhost:8080/"
        },
        "outputId": "a57f72d7-37cc-4950-8732-27651da29731"
      },
      "execution_count": null,
      "outputs": [
        {
          "output_type": "stream",
          "name": "stdout",
          "text": [
            "D\n",
            "B\n",
            "C\n",
            "A\n"
          ]
        }
      ]
    },
    {
      "cell_type": "code",
      "source": [
        "## no caso de dicionários podemos iterar de duas maneiras\n",
        "\n",
        "carro = dict(marca = \"Ford\", modelo = \"Mustang\", ano = 1967)\n",
        "\n",
        "### sobre as chaves\n",
        "for k in carro:\n",
        "  print('chave = ', k, ', valor = ', carro[k], sep=\"\")\n",
        "\n",
        "print('---')\n",
        "\n",
        "### ou sobre chaves e valores\n",
        "for k, v in carro.items():\n",
        "  print('chave=', k, ', valor=', v, sep=\"\")\n"
      ],
      "metadata": {
        "id": "1fkCBVWI5PBp",
        "colab": {
          "base_uri": "https://localhost:8080/"
        },
        "outputId": "10273857-281b-422e-9fc7-47fd29e24cc1"
      },
      "execution_count": null,
      "outputs": [
        {
          "output_type": "stream",
          "name": "stdout",
          "text": [
            "chave = marca, valor = Ford\n",
            "chave = modelo, valor = Mustang\n",
            "chave = ano, valor = 1967\n",
            "---\n",
            "chave=marca, valor=Ford\n",
            "chave=modelo, valor=Mustang\n",
            "chave=ano, valor=1967\n"
          ]
        }
      ]
    },
    {
      "cell_type": "markdown",
      "source": [
        "**Exemplo:** Crie um programa que receba um número inteiro do usuário e use um laço for para verificar se o número é primo.\n",
        "* Um número primo é divisível apenas por 1 e por ele mesmo;\n",
        "* Qualquer número menor que 2 não é considerado como primo;\n",
        "* Para saber se $n$ é primo, basta que seja testado os divisores pertentes ao intervalo de 2 até $||\\sqrt{n}||$, em que $||x||$ denota o maior inteiro menor que $x$."
      ],
      "metadata": {
        "id": "xXYxJkWeCbMV"
      }
    },
    {
      "cell_type": "code",
      "source": [
        "numero = int(input(\"Digite um número: \"))\n",
        "\n",
        "if numero < 2:\n",
        "    print(f\"{numero} não é primo.\")\n",
        "else:\n",
        "    primo = True\n",
        "    for i in range(2, int(numero ** 0.5) + 1):\n",
        "        if numero % i == 0:\n",
        "            primo = False\n",
        "            break\n",
        "\n",
        "    if primo:\n",
        "        print(f\"{numero} é primo.\")\n",
        "    else:\n",
        "        print(f\"{numero} não é primo.\")\n"
      ],
      "metadata": {
        "id": "5JQQv74-CvSL",
        "colab": {
          "base_uri": "https://localhost:8080/"
        },
        "outputId": "57f564e6-1277-4b08-fa6f-fdf59703a412"
      },
      "execution_count": null,
      "outputs": [
        {
          "output_type": "stream",
          "name": "stdout",
          "text": [
            "Digite um número: 4\n",
            "4 não é primo.\n"
          ]
        }
      ]
    },
    {
      "cell_type": "markdown",
      "source": [
        "### Exercício 3: Soma dos primeiros 100 números\n",
        "\n",
        "a) Use um laço `while` para calcular a soma dos primeiros 100 números inteiros (de 1 a 100).\n",
        "\n",
        "b)  Use um laço `for` para calcular a soma dos primeiros 100 números inteiros (de 1 a 100)."
      ],
      "metadata": {
        "id": "vs5RcxBHFJsL"
      }
    },
    {
      "cell_type": "code",
      "source": [
        "i = 1\n",
        "while i < 101:\n",
        "  print(i)\n",
        "  i += 1\n",
        "\n",
        "print(\"---\")\n",
        "\n",
        "j = 1\n",
        "for j in range(1, 101):\n",
        "  print(j)"
      ],
      "metadata": {
        "colab": {
          "base_uri": "https://localhost:8080/"
        },
        "id": "Rw8mqSX6y4YR",
        "outputId": "b60dd70e-aa35-47b2-d296-410c27cc3727"
      },
      "execution_count": null,
      "outputs": [
        {
          "output_type": "stream",
          "name": "stdout",
          "text": [
            "1\n",
            "2\n",
            "3\n",
            "4\n",
            "5\n",
            "6\n",
            "7\n",
            "8\n",
            "9\n",
            "10\n",
            "11\n",
            "12\n",
            "13\n",
            "14\n",
            "15\n",
            "16\n",
            "17\n",
            "18\n",
            "19\n",
            "20\n",
            "21\n",
            "22\n",
            "23\n",
            "24\n",
            "25\n",
            "26\n",
            "27\n",
            "28\n",
            "29\n",
            "30\n",
            "31\n",
            "32\n",
            "33\n",
            "34\n",
            "35\n",
            "36\n",
            "37\n",
            "38\n",
            "39\n",
            "40\n",
            "41\n",
            "42\n",
            "43\n",
            "44\n",
            "45\n",
            "46\n",
            "47\n",
            "48\n",
            "49\n",
            "50\n",
            "51\n",
            "52\n",
            "53\n",
            "54\n",
            "55\n",
            "56\n",
            "57\n",
            "58\n",
            "59\n",
            "60\n",
            "61\n",
            "62\n",
            "63\n",
            "64\n",
            "65\n",
            "66\n",
            "67\n",
            "68\n",
            "69\n",
            "70\n",
            "71\n",
            "72\n",
            "73\n",
            "74\n",
            "75\n",
            "76\n",
            "77\n",
            "78\n",
            "79\n",
            "80\n",
            "81\n",
            "82\n",
            "83\n",
            "84\n",
            "85\n",
            "86\n",
            "87\n",
            "88\n",
            "89\n",
            "90\n",
            "91\n",
            "92\n",
            "93\n",
            "94\n",
            "95\n",
            "96\n",
            "97\n",
            "98\n",
            "99\n",
            "100\n",
            "---\n",
            "1\n",
            "2\n",
            "3\n",
            "4\n",
            "5\n",
            "6\n",
            "7\n",
            "8\n",
            "9\n",
            "10\n",
            "11\n",
            "12\n",
            "13\n",
            "14\n",
            "15\n",
            "16\n",
            "17\n",
            "18\n",
            "19\n",
            "20\n",
            "21\n",
            "22\n",
            "23\n",
            "24\n",
            "25\n",
            "26\n",
            "27\n",
            "28\n",
            "29\n",
            "30\n",
            "31\n",
            "32\n",
            "33\n",
            "34\n",
            "35\n",
            "36\n",
            "37\n",
            "38\n",
            "39\n",
            "40\n",
            "41\n",
            "42\n",
            "43\n",
            "44\n",
            "45\n",
            "46\n",
            "47\n",
            "48\n",
            "49\n",
            "50\n",
            "51\n",
            "52\n",
            "53\n",
            "54\n",
            "55\n",
            "56\n",
            "57\n",
            "58\n",
            "59\n",
            "60\n",
            "61\n",
            "62\n",
            "63\n",
            "64\n",
            "65\n",
            "66\n",
            "67\n",
            "68\n",
            "69\n",
            "70\n",
            "71\n",
            "72\n",
            "73\n",
            "74\n",
            "75\n",
            "76\n",
            "77\n",
            "78\n",
            "79\n",
            "80\n",
            "81\n",
            "82\n",
            "83\n",
            "84\n",
            "85\n",
            "86\n",
            "87\n",
            "88\n",
            "89\n",
            "90\n",
            "91\n",
            "92\n",
            "93\n",
            "94\n",
            "95\n",
            "96\n",
            "97\n",
            "98\n",
            "99\n",
            "100\n"
          ]
        }
      ]
    },
    {
      "cell_type": "markdown",
      "source": [
        "### Exercício 4: Números ímpares com `continue`\n",
        "\n",
        "Use um laço `for` para exibir todos os números de 1 a 10, exceto os números ímpares (use o `continue`)."
      ],
      "metadata": {
        "id": "yUadjv1FFyg8"
      }
    },
    {
      "cell_type": "code",
      "source": [
        "\n",
        "for i in range(1, 11):\n",
        "  if i % 2 != 0:\n",
        "    continue\n",
        "  print(i)"
      ],
      "metadata": {
        "colab": {
          "base_uri": "https://localhost:8080/"
        },
        "id": "Qa-gvB3zzrKz",
        "outputId": "5e4aba7d-3a94-41db-fe20-5989f5e9b3bb"
      },
      "execution_count": null,
      "outputs": [
        {
          "output_type": "stream",
          "name": "stdout",
          "text": [
            "2\n",
            "4\n",
            "6\n",
            "8\n",
            "10\n"
          ]
        }
      ]
    },
    {
      "cell_type": "markdown",
      "source": [
        "### Exercício 5: Sequência de Fibonacci\n",
        "\n",
        "Use um laço `while` para calcular e exibir os primeiros 15 termos da sequência de Fibonacci.\n",
        "\n",
        "A sequência de Fibonacci começa com 0 e 1, e os próximos números são a soma dos dois números anteriores.\n",
        "\n",
        "Sequência: 0, 1, 1, 2, 3, 5, ..."
      ],
      "metadata": {
        "id": "tGxM8LQ9Gtdp"
      }
    },
    {
      "cell_type": "code",
      "source": [
        "i = 0\n",
        "j = 1\n",
        "m = i + j\n",
        "while m < 300:\n",
        "  if i == 0:\n",
        "    print(i)\n",
        "    print(j)\n",
        "    print(j)\n",
        "\n",
        "  i = j\n",
        "  j = m\n",
        "  m = i + j\n",
        "  print(m)\n"
      ],
      "metadata": {
        "colab": {
          "base_uri": "https://localhost:8080/"
        },
        "id": "pfmoTD7R0S3m",
        "outputId": "bd89e3db-17f7-4a86-b0d5-eb0f18239b28"
      },
      "execution_count": 24,
      "outputs": [
        {
          "output_type": "stream",
          "name": "stdout",
          "text": [
            "0\n",
            "1\n",
            "1\n",
            "2\n",
            "3\n",
            "5\n",
            "8\n",
            "13\n",
            "21\n",
            "34\n",
            "55\n",
            "89\n",
            "144\n",
            "233\n",
            "377\n"
          ]
        }
      ]
    }
  ]
}